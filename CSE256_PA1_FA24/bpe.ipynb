{
 "cells": [
  {
   "cell_type": "code",
   "execution_count": 15,
   "metadata": {},
   "outputs": [],
   "source": [
    "import torch\n",
    "from torch import nn\n",
    "import torch.nn.functional as F\n",
    "from sentiment_data import read_sentiment_examples\n",
    "from torch.utils.data import Dataset\n",
    "from torch.nn.utils.rnn import pad_sequence\n",
    "import torch.nn.init as init\n",
    "from utils import *\n",
    "import re, collections"
   ]
  },
  {
   "cell_type": "code",
   "execution_count": 72,
   "metadata": {},
   "outputs": [],
   "source": [
    "## helper functions\n",
    "\n",
    "def get_stats(vocab):\n",
    "    pairs = collections.defaultdict(int)\n",
    "    for word, freq in vocab.items():\n",
    "        symbols = word.split()\n",
    "        for i in range(len(symbols)-1):\n",
    "            pairs[symbols[i], symbols[i+1]] += freq\n",
    "    return pairs\n",
    "\n",
    "def merge_vocab(pair, v_in):\n",
    "    v_out = collections.defaultdict(int)\n",
    "    bigram = re.escape(' '.join(pair))\n",
    "    p = re.compile(r'(?<!\\S)' + bigram + r'(?!\\S)')\n",
    "    for w in v_in:\n",
    "        w_out = p.sub(''.join(pair), w)\n",
    "        v_out[w_out] = v_in[w]\n",
    "    return v_out\n",
    "\n",
    "# print the first 10 items in the dictionary\n",
    "def view_10(dictionary):\n",
    "    count = 0\n",
    "    for k, v in dictionary.items():\n",
    "        if count == 10:\n",
    "            break\n",
    "        print(k, v)\n",
    "        count += 1\n",
    "\n",
    "\n"
   ]
  },
  {
   "cell_type": "code",
   "execution_count": 73,
   "metadata": {},
   "outputs": [],
   "source": [
    "class Byte_Pair_Encoding(Dataset):\n",
    "    def __init__(self, infile, num_of_merge):\n",
    "        self.examples = read_sentiment_examples(infile)\n",
    "        self.vocab = collections.defaultdict(int)\n",
    "\n",
    "        for ex in self.examples:\n",
    "            for w in ex.words:\n",
    "                self.vocab[' '.join(list(w)) + \" </w>\"] += 1\n",
    "\n",
    "        for _ in range(len(num_of_merge))\n",
    "        self.pairs = get_stats(self.vocab)\n",
    "\n",
    "\n"
   ]
  },
  {
   "cell_type": "code",
   "execution_count": 74,
   "metadata": {},
   "outputs": [
    {
     "name": "stdout",
     "output_type": "stream",
     "text": [
      "t h e </w> 5954\n",
      "r o c k </w> 22\n",
      "i s </w> 2096\n",
      "d e s t i n e d </w> 4\n",
      "t o </w> 2438\n",
      "b e </w> 538\n",
      "2 1 s t </w> 4\n",
      "c e n t u r y </w> 10\n",
      "' s </w> 2025\n",
      "n e w </w> 126\n",
      "('t', 'h') 13543\n",
      "('h', 'e') 9357\n",
      "('e', '</w>') 20902\n",
      "('r', 'o') 2696\n",
      "('o', 'c') 562\n",
      "('c', 'k') 949\n",
      "('k', '</w>') 1179\n",
      "('i', 's') 5551\n",
      "('s', '</w>') 18094\n",
      "('d', 'e') 2866\n"
     ]
    }
   ],
   "source": [
    "bpe = Byte_Pair_Encoding(\"data/train.txt\")"
   ]
  },
  {
   "cell_type": "code",
   "execution_count": 46,
   "metadata": {},
   "outputs": [
    {
     "name": "stdout",
     "output_type": "stream",
     "text": [
      "dict_keys([('a', 'b')])\n"
     ]
    }
   ],
   "source": [
    "d = {}\n",
    "d[\"a\", \"b\"] = 1\n",
    "\n",
    "print(d.keys())"
   ]
  },
  {
   "cell_type": "code",
   "execution_count": null,
   "metadata": {},
   "outputs": [],
   "source": []
  }
 ],
 "metadata": {
  "kernelspec": {
   "display_name": "cse256",
   "language": "python",
   "name": "python3"
  },
  "language_info": {
   "codemirror_mode": {
    "name": "ipython",
    "version": 3
   },
   "file_extension": ".py",
   "mimetype": "text/x-python",
   "name": "python",
   "nbconvert_exporter": "python",
   "pygments_lexer": "ipython3",
   "version": "3.12.2"
  }
 },
 "nbformat": 4,
 "nbformat_minor": 2
}
