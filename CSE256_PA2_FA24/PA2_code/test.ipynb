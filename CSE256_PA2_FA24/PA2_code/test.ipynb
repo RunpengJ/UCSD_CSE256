{
 "cells": [
  {
   "cell_type": "code",
   "execution_count": 1,
   "metadata": {},
   "outputs": [],
   "source": [
    "import torch\n",
    "import torch.nn as nn\n",
    "from torch.utils.data import DataLoader\n",
    "from torch.nn.utils.rnn import pad_sequence\n",
    "import os\n",
    "import matplotlib.pyplot as plt\n",
    "import argparse\n",
    "\n",
    "\n",
    "from tokenizer import SimpleTokenizer\n",
    "from dataset import SpeechesClassificationDataset, LanguageModelingDataset\n",
    "from transformer import TransformerEncoder\n",
    "from classifier import Classifier,SpeechClassifier"
   ]
  },
  {
   "cell_type": "code",
   "execution_count": 7,
   "metadata": {},
   "outputs": [],
   "source": [
    "seed = 42\n",
    "\n",
    "device = torch.device(\"cuda\" if torch.cuda.is_available() else \"cpu\")\n",
    "\n",
    "\"\"\" Hyperparameters to use for training to roughly match \n",
    "the numbers mentioned in the assignment description \"\"\"\n",
    "batch_size = 16  # Number of independent sequences  we will process in parallel\n",
    "block_size = 32  # Maximum context length for predictions\n",
    "learning_rate = 1e-3  # Learning rate for the optimizer\n",
    "n_embd = 64  # Embedding dimension\n",
    "n_head = 2  # Number of attention heads\n",
    "n_layer = 4  # Number of transformer layers\n",
    "\n",
    "\n",
    "\"\"\" Hyperparameters for Language decoder. \"\"\"\n",
    "eval_interval = 100  # How often to evaluate train and test perplexity during training\n",
    "max_iters = 500 # For language modeling, we can process all the batches for the entire dataset, but that takes a while, so we'll limit it to 500 iterations. For batch size of 16 and block size of  32, this is roughly, this is  500 * 16 * 32 = 256000 tokens, SOTA LMs are trained on trillions of tokens, so this is a very small dataset.\n",
    "eval_iters = 200  # Number of iterations to evaluate perplexity on the test set\n",
    "\n",
    "\n",
    "\"\"\" Classifier training hyperparameters. \"\"\"\n",
    "n_input = 64  # Input size for the classifier, should match the embedding size of the transformer\n",
    "n_hidden = 100  # Hidden size for the classifier\n",
    "n_output = 3  # Output size for the classifier, we have 3 classes\n",
    "epochs_CLS = 15 # epochs for classifier training"
   ]
  },
  {
   "cell_type": "code",
   "execution_count": 8,
   "metadata": {},
   "outputs": [],
   "source": [
    "def load_texts(directory):\n",
    "    \"\"\"\n",
    "    This function loads all texts from the specified directory, ignoring any files with \"test\" in their name. The text is used for \"training\" the tokenizer. Since our tokenizer is simple, we don't need to do any training, but we still need to ignore the test data. \n",
    "    \"\"\"\n",
    "\n",
    "    texts = []\n",
    "    files = os.listdir(directory)\n",
    "    for filename in files: \n",
    "        if \"test\" in filename:  ## don't \"read test files\"\n",
    "            continue\n",
    "        with open(os.path.join(directory, filename), 'r', encoding='utf-8') as file:\n",
    "            texts.append(file.read())\n",
    "    return texts\n",
    "\n",
    "\n",
    "def collate_batch(batch):\n",
    "    \"\"\" Collate a batch of data into a single tensor with padding.\"\"\"\n",
    "    data, labels = zip(*batch)  # Separate the data and labels\n",
    "    # Pad sequences to the fixed length\n",
    "    padded_sequences = pad_sequence(data, batch_first=True, padding_value=0)\n",
    "    padded_sequences = padded_sequences[:, :block_size]  # Truncate if longer\n",
    "    # Add padding if shorter\n",
    "    padded_sequences = torch.nn.functional.pad(padded_sequences, (0, max(0, block_size - padded_sequences.shape[1])), \"constant\", 0)\n",
    "    labels = torch.stack(labels)  \n",
    "    return padded_sequences, labels"
   ]
  },
  {
   "cell_type": "code",
   "execution_count": 9,
   "metadata": {},
   "outputs": [
    {
     "name": "stdout",
     "output_type": "stream",
     "text": [
      "Loading data and creating tokenizer ...\n",
      "Vocabulary size is 5755\n"
     ]
    }
   ],
   "source": [
    "print(\"Loading data and creating tokenizer ...\")\n",
    "texts = load_texts('speechesdataset')\n",
    "tokenizer = SimpleTokenizer(' '.join(texts)) # create a tokenizer from the data\n",
    "print(\"Vocabulary size is\", tokenizer.vocab_size)\n",
    "\n",
    "train_CLS_dataset = SpeechesClassificationDataset(tokenizer, \"speechesdataset/train_CLS.tsv\")\n",
    "train_CLS_loader = DataLoader(train_CLS_dataset, batch_size=batch_size,collate_fn=collate_batch,shuffle=True)\n",
    "test_CLS_dataset = SpeechesClassificationDataset(tokenizer, \"speechesdataset/test_CLS.tsv\")\n",
    "test_CLS_loader = DataLoader(test_CLS_dataset, batch_size=batch_size,collate_fn=collate_batch,shuffle=False)"
   ]
  },
  {
   "cell_type": "code",
   "execution_count": 35,
   "metadata": {},
   "outputs": [
    {
     "name": "stdout",
     "output_type": "stream",
     "text": [
      "<class 'str'>\n"
     ]
    }
   ],
   "source": [
    "print(type(texts[0][:32]))"
   ]
  },
  {
   "cell_type": "code",
   "execution_count": null,
   "metadata": {},
   "outputs": [],
   "source": []
  }
 ],
 "metadata": {
  "kernelspec": {
   "display_name": "cse256pa1",
   "language": "python",
   "name": "python3"
  },
  "language_info": {
   "codemirror_mode": {
    "name": "ipython",
    "version": 3
   },
   "file_extension": ".py",
   "mimetype": "text/x-python",
   "name": "python",
   "nbconvert_exporter": "python",
   "pygments_lexer": "ipython3",
   "version": "3.12.3"
  }
 },
 "nbformat": 4,
 "nbformat_minor": 2
}
